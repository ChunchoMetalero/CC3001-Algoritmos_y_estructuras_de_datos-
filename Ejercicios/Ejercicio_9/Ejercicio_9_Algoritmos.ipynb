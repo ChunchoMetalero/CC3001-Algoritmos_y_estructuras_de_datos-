{
  "nbformat": 4,
  "nbformat_minor": 0,
  "metadata": {
    "colab": {
      "provenance": []
    },
    "kernelspec": {
      "name": "python3",
      "display_name": "Python 3"
    },
    "language_info": {
      "name": "python"
    }
  },
  "cells": [
    {
      "cell_type": "markdown",
      "source": [
        "### Ejercicio 6.3 : Búsqueda en árboles 2-3"
      ],
      "metadata": {
        "id": "B25e_vAq8GAi"
      }
    },
    {
      "cell_type": "markdown",
      "source": [
        "El objetivo de esta tarea es que usted implemente la búsqueda (\"search\") en árboles 2-3 (sólo la búsqueda, no la inserción).\n",
        "Para ello complete el código que implementa la función ``search`` en tres tipos de nodos:``Nodo2``, que almacena un nodo que tiene 2 hijos, ``Nodo3``, que tiene 3 y ``Nodoe`` que implementa un nodo externo. Además, la función ``search`` de la clase ``Arbol23`` está dada en el enunciado. En todos los casos, la función debe retornar un puntero al nodo que contiene la llave buscada en caso de ser exitosa, o ``None`` si es infructuosa. Usted puede decidir si usa un enfoque recursivo o no para implementarlo.\n",
        "\n",
        "En varias partes se ha rellenado con código provisorio, para que compile. Usted debe reemplazar y completar todo lo que sea necesario para que todo funcione.\n",
        "\n",
        "Para inspirarse puede ver operación de búsqueda ``search`` en un árbol binario en https://colab.research.google.com/github/ivansipiran/AED-Apuntes/blob/main/06_Diccionarios.ipynb#scrollTo=KTlzPSiLGRgy"
      ],
      "metadata": {
        "id": "ZF2bJQSn8Bkr"
      }
    },
    {
      "cell_type": "code",
      "source": [
        "class Nodo2:\n",
        "    def __init__(self, izq, info, der):\n",
        "        self.izq=izq\n",
        "        self.info=info\n",
        "        self.der=der\n",
        "\n",
        "    def string(self):\n",
        "      return \"Nodo2(\"+str(self.info)+\")\"\n",
        "\n",
        "    #Implementa esta función\n",
        "    def search(self,x):\n",
        "        if x == self.info:\n",
        "          return self\n",
        "        if x < self.info:\n",
        "          return self.izq.search(x)\n",
        "        else:\n",
        "          return self.der.search(x)\n",
        "\n",
        "class Nodo3:\n",
        "    def __init__(self, izq, info1, med, info2, der):\n",
        "        self.izq=izq\n",
        "        self.info1=info1\n",
        "        self.med=med\n",
        "        self.info2=info2\n",
        "        self.der=der\n",
        "\n",
        "    def string(self):\n",
        "      return \"Nodo3(\"+str(self.info1)+\",\"+str(self.info2)+\")\"\n",
        "\n",
        "    #Implementa esta función\n",
        "    def search(self,x):\n",
        "        if x == self.info1:\n",
        "          return self\n",
        "        elif x == self.info2:\n",
        "          return self\n",
        "        elif x < self.info1:\n",
        "          return self.izq.search(x)\n",
        "        elif x > self.info1:\n",
        "          return self.der.search(x)\n",
        "        elif x < self.info2:\n",
        "          return self.izq.search(x)\n",
        "        elif x > self.info2:\n",
        "          return self.der.search(x)\n",
        "        else:\n",
        "          return self.med.search(x)\n",
        "\n",
        "\n",
        "class Nodoe:\n",
        "    def __init__(self):\n",
        "        pass\n",
        "\n",
        "    #Implementa esta función\n",
        "    def search(self,x):\n",
        "        return None\n",
        "\n",
        "    def __str__(self):\n",
        "      return \"☐\"\n",
        "\n",
        "class Arbol23:\n",
        "    def __init__(self,raiz=Nodoe()):\n",
        "        self.raiz=raiz\n",
        "\n",
        "    def search(self,x):\n",
        "        return self.raiz.search(x)"
      ],
      "metadata": {
        "id": "RbPnHtDc8QuN"
      },
      "execution_count": null,
      "outputs": []
    },
    {
      "cell_type": "markdown",
      "source": [
        "Para probar este código, vamos a construir \"a mano\" el árbol 2-3 que aparece en el apunte, y luego hay que ejecutar las búsquedas que se indican, para probar que su solución esté correcta."
      ],
      "metadata": {
        "id": "od6OUCxx8VbX"
      }
    },
    {
      "cell_type": "code",
      "source": [
        "a=Nodo3(Nodo2(Nodoe(),10,Nodoe()),25,Nodo3(Nodoe(),32,Nodoe(),48,Nodoe()),57,Nodo2(Nodoe(),74,Nodoe()))"
      ],
      "metadata": {
        "id": "jJjOBUeG8ZHi"
      },
      "execution_count": null,
      "outputs": []
    },
    {
      "cell_type": "markdown",
      "source": [
        "### Búsqueda de valores en un Árbol 2-3"
      ],
      "metadata": {
        "id": "XM0fe6NZ8Zz9"
      }
    },
    {
      "cell_type": "code",
      "source": [
        "busqueda1=a.search(25)\n",
        "assert busqueda1.string() == \"Nodo3(25,57)\"\n",
        "\n",
        "busqueda2=a.search(74)\n",
        "assert busqueda2.string() == \"Nodo2(74)\"\n",
        "\n",
        "\n",
        "busqueda3=a.search(7)\n",
        "assert busqueda3 == None\n",
        "\n",
        "print(\"pasó los tests\")"
      ],
      "metadata": {
        "colab": {
          "base_uri": "https://localhost:8080/"
        },
        "id": "aWN6cbjv8ifq",
        "outputId": "c864bf0b-1971-48b7-c57e-e3049245e926"
      },
      "execution_count": null,
      "outputs": [
        {
          "output_type": "stream",
          "name": "stdout",
          "text": [
            "pasó los tests\n"
          ]
        }
      ]
    }
  ]
}