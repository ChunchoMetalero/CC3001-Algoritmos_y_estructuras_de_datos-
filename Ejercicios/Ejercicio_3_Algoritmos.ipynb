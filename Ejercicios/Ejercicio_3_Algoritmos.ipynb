{
  "nbformat": 4,
  "nbformat_minor": 0,
  "metadata": {
    "colab": {
      "provenance": []
    },
    "kernelspec": {
      "name": "python3",
      "display_name": "Python 3"
    },
    "language_info": {
      "name": "python"
    }
  },
  "cells": [
    {
      "cell_type": "markdown",
      "source": [
        "### Ejercicio 2.3\n",
        "\n",
        "El método del ordenación **Stooge Sort** es un método recursivo que puede describirse de la siguiente manera:\n",
        "\n",
        "* Si el primer elemento es mayor que el último, los intercambiamos\n",
        "* Si hay 3 o más elementos en la lista, entonces:\n",
        "    * Ordenar los primeros 2/3 de la lista recursivamente\n",
        "    * Ordenar los últimos 2/3 de la lista, recursivamente, y\n",
        "    * Ordenar (¡de nuevo!) los primeros 2/3 de la lista.\n",
        "\n",
        "Escriba una ecuación que modele el tiempo de ejecución de Stooge Sort y resuélvala usando el Teorema Maestro."
      ],
      "metadata": {
        "id": "4C6k5aXhTMvl"
      }
    },
    {
      "cell_type": "code",
      "source": [
        "#Respuesta en texto"
      ],
      "metadata": {
        "id": "MH_ghAtRTRDj"
      },
      "execution_count": null,
      "outputs": []
    },
    {
      "cell_type": "markdown",
      "source": [
        "La forma estándar de la solución es:\n",
        "$$\n",
        "T(n)=pT(\\frac{n}{q})+Cn^r\n",
        "$$\n",
        "\n",
        "Luego obtenemos la ecuación que modele el tiempo de Stooge Sort, la cual sería:\n",
        "$$\n",
        "T(n)=3T(\\frac{2n}{3}) + C\n",
        "$$\n",
        "\\\n",
        "Lo que nos deja con los coeficientes:\n",
        "\n",
        "p = 3\\\n",
        "q = 3/2\\\n",
        "r = 0\n",
        "\n",
        "$$$$\n",
        "Se toma el valor de p = 3 debido a que este indica la cantidad de veces que hacemos una recursión (En este caso 3), luego tenemos q = 3/2 debido a que cada vez que hacemos la recursión tomamos $2/3$ de la lista(tomamos $3/2$ debido a que $\\frac{n}{q}$ y reemplazando $q$ por $2/3$ nos queda $\\frac{2n}{3}$) y finalmente tomamos r = 0 debido a que r representa el \"costo\" de las operaciones fuera de la recursión, y en este caso este es solo intercambiar dos elementos en un array, por lo que el término final debería ser constante, es decir $Cn^r = C$ , por lo que r tiene que ser $0$ y nos quedaría una constante.\n",
        "$$$$\n",
        "\n",
        "Luego aplicamos el teorema maestro donde estudiamos la relación entre $p$ y $q^r$, donde al r ser igual a 0 automáticamente tenemos que $p>q^r$.\n",
        "$$$$\n",
        "\n",
        "Entonces aplicamos esta parte del teorema maestro:\n",
        "\n",
        "$$T(n) = \\Theta(n^{\\log_q{p}})$$\n",
        "\n",
        "Reemplazando los valores de $p$ y $q$ calculamos el logaritmo."
      ],
      "metadata": {
        "id": "qUi69oQxTVKx"
      }
    },
    {
      "cell_type": "code",
      "source": [
        "from math import log\n",
        "print(log(3,3/2))"
      ],
      "metadata": {
        "colab": {
          "base_uri": "https://localhost:8080/"
        },
        "id": "sWKPxwHyW0_K",
        "outputId": "62552c1c-c1d2-4e36-a48e-21cfe63588ad"
      },
      "execution_count": null,
      "outputs": [
        {
          "output_type": "stream",
          "name": "stdout",
          "text": [
            "2.709511291351455\n"
          ]
        }
      ]
    },
    {
      "cell_type": "markdown",
      "source": [
        "Luego la solución es:\n",
        "$$\n",
        "T(n) = \\Theta(n^{2.709511291351455})\n",
        "$$\n"
      ],
      "metadata": {
        "id": "lhKpoxtrXQfL"
      }
    }
  ]
}