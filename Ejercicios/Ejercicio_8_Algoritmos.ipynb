{
  "cells": [
    {
      "cell_type": "markdown",
      "metadata": {
        "id": "Sl5tG6q3MR6L"
      },
      "source": [
        "### Ejercicio 6.1 (Chequear si un árbol es AVL en tiempo lineal)\n",
        "\n",
        "En este ejercicio usted debe modificar la implementación dada para asegurar que cada nodo del árbol se visite solo una vez, asegurando de esta manera que el costo de determinar si un árbol es AVL sea $\\Theta(n)$.\n",
        "\n",
        "Para esto, usted debe fusionar las funciones ``altura`` y ``es_AVL``en una sola función ``altura_AVL``, que retorne una tupla $(h,a)$, donde $h$ es la altura y $a$ es un booleano que dice si el árbol es AVL. De esta manera, al invocar la función se tiene de una sola vez toda la información necesaria."
      ]
    },
    {
      "cell_type": "code",
      "execution_count": null,
      "metadata": {
        "collapsed": true,
        "id": "no9mzLniMR6R"
      },
      "outputs": [],
      "source": [
        "class Nodoi:\n",
        "    def __init__(self, izq, info, der):\n",
        "        self.izq = izq\n",
        "        self.info = info\n",
        "        self.der = der\n",
        "\n",
        "    def altura_AVL(self):\n",
        "        a_izq, AVL_izq = self.izq.altura_AVL()\n",
        "        a_der, AVL_der = self.der.altura_AVL()\n",
        "\n",
        "        altura = 1 + max(a_izq, a_der)\n",
        "        es_AVL = abs(a_izq - a_der) <= 1 and AVL_izq and AVL_der\n",
        "\n",
        "        return altura, es_AVL\n",
        "\n",
        "    def __str__(self):\n",
        "        return \"(\"+self.izq.__str__()+str(self.info)+self.der.__str__()+\")\"\n",
        "\n",
        "class Nodoe:\n",
        "    def __init__(self):\n",
        "        pass\n",
        "\n",
        "    def altura_AVL(self):\n",
        "        return 0, True\n",
        "\n",
        "    def __str__(self):\n",
        "        return \"☐\"\n",
        "\n",
        "class Arbol:\n",
        "    def __init__(self, raiz=Nodoe()):\n",
        "        self.raiz = raiz\n",
        "\n",
        "    def altura_AVL(self):\n",
        "        return self.raiz.altura_AVL()\n",
        "\n",
        "    def __str__(self):\n",
        "        return self.raiz.__str__()\n"
      ]
    },
    {
      "cell_type": "markdown",
      "metadata": {
        "id": "4Hh6lEvyMR6V"
      },
      "source": [
        "A continuación, pruébela con los dos árboles utilizados anteriormente:"
      ]
    },
    {
      "cell_type": "code",
      "execution_count": null,
      "metadata": {
        "collapsed": true,
        "id": "SRDyM6bCMR6Y",
        "colab": {
          "base_uri": "https://localhost:8080/"
        },
        "outputId": "0a1fb66b-38d4-4ddf-e118-7e368a6f66b0"
      },
      "outputs": [
        {
          "output_type": "stream",
          "name": "stdout",
          "text": [
            "((☐1☐)2(☐3(☐4☐)))\n",
            "(3, True)\n",
            "True\n"
          ]
        }
      ],
      "source": [
        "a1=Arbol(Nodoi(Nodoi(Nodoe(),1,Nodoe()),\n",
        "            2,\n",
        "            Nodoi(Nodoe(),3,Nodoi(Nodoe(),4,Nodoe()))))\n",
        "print(a1)\n",
        "print(a1.altura_AVL())\n",
        "print(a1.altura_AVL()[1])"
      ]
    },
    {
      "cell_type": "code",
      "execution_count": null,
      "metadata": {
        "collapsed": true,
        "id": "j4V0UAhuMR6b",
        "colab": {
          "base_uri": "https://localhost:8080/"
        },
        "outputId": "a8c30032-f497-4bd1-bd56-990dad9e8c25"
      },
      "outputs": [
        {
          "output_type": "stream",
          "name": "stdout",
          "text": [
            "((☐1☐)2(☐3(☐4(☐5☐))))\n",
            "(4, False)\n",
            "False\n"
          ]
        }
      ],
      "source": [
        "a2=Arbol(Nodoi(Nodoi(Nodoe(),1,Nodoe()),\n",
        "            2,\n",
        "            Nodoi(Nodoe(),3,Nodoi(Nodoe(),4,Nodoi(Nodoe(),5,Nodoe())))))\n",
        "print(a2)\n",
        "print(a2.altura_AVL())\n",
        "print(a2.altura_AVL()[1])"
      ]
    }
  ],
  "metadata": {
    "kernelspec": {
      "display_name": "Python 3",
      "language": "python",
      "name": "python3"
    },
    "language_info": {
      "codemirror_mode": {
        "name": "ipython",
        "version": 3
      },
      "file_extension": ".py",
      "mimetype": "text/x-python",
      "name": "python",
      "nbconvert_exporter": "python",
      "pygments_lexer": "ipython3",
      "version": "3.6.3"
    },
    "colab": {
      "provenance": []
    }
  },
  "nbformat": 4,
  "nbformat_minor": 0
}