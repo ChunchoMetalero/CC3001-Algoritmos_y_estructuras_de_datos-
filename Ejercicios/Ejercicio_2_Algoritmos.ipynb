{
  "nbformat": 4,
  "nbformat_minor": 0,
  "metadata": {
    "colab": {
      "provenance": []
    },
    "kernelspec": {
      "name": "python3",
      "display_name": "Python 3"
    },
    "language_info": {
      "name": "python"
    }
  },
  "cells": [
    {
      "cell_type": "markdown",
      "source": [
        "### Ejercicio 1.6 - Generando números binarios\n",
        "Una función recursiva que genera e imprime todos los números binarios de ``n`` dígitos se puede plantear con un encabezado de la siguiente manera:"
      ],
      "metadata": {
        "id": "w8HHoE_IFRmR"
      }
    },
    {
      "cell_type": "code",
      "source": [
        "def genera_binarios(a,k,n):\n",
        "    if k == n:\n",
        "        print(a)\n",
        "    else:\n",
        "        a[k]=0\n",
        "        genera_binarios(a,k+1,n)\n",
        "        a[k]=1\n",
        "        genera_binarios(a,k+1,n)"
      ],
      "metadata": {
        "id": "Ni57_2c1FePE"
      },
      "execution_count": null,
      "outputs": []
    },
    {
      "cell_type": "markdown",
      "source": [
        "Donde ``a`` es un arreglo que contiene los unos y ceros de los números que se van generando, el cual se va rellenando con valores de izquierda a derecha, ``k`` es el grado de avance en el proceso de generación (más precisamente cuantos dígitos se han generado hasta esta llamada) y ``n`` es la cantidad total de dígitos que deben generarse (``n = len(a)``). Por lo tanto ``n-k`` es la cantidad de dígitos que faltan por generar. Esta función se llama la primera vez de la siguiente manera:"
      ],
      "metadata": {
        "id": "cy9wbnSwFe1C"
      }
    },
    {
      "cell_type": "code",
      "source": [
        "import numpy as np\n",
        "n = 4\n",
        "a = np.empty(n,dtype=int) # arreglo de largo n sin inicializar\n",
        "genera_binarios(a,0,len(a))"
      ],
      "metadata": {
        "colab": {
          "base_uri": "https://localhost:8080/"
        },
        "id": "fDR3MUNeFk-z",
        "outputId": "e59069b3-7146-4677-ff3a-36861cb1682d"
      },
      "execution_count": null,
      "outputs": [
        {
          "output_type": "stream",
          "name": "stdout",
          "text": [
            "[0 0 0 0]\n",
            "[0 0 0 1]\n",
            "[0 0 1 0]\n",
            "[0 0 1 1]\n",
            "[0 1 0 0]\n",
            "[0 1 0 1]\n",
            "[0 1 1 0]\n",
            "[0 1 1 1]\n",
            "[1 0 0 0]\n",
            "[1 0 0 1]\n",
            "[1 0 1 0]\n",
            "[1 0 1 1]\n",
            "[1 1 0 0]\n",
            "[1 1 0 1]\n",
            "[1 1 1 0]\n",
            "[1 1 1 1]\n"
          ]
        }
      ]
    },
    {
      "cell_type": "markdown",
      "source": [
        "Este código debe generar la salida:\n",
        "\n",
        "[0 0 0 0]\n",
        "\n",
        "[0 0 0 1]\n",
        "\n",
        "[0 0 1 0]\n",
        "\n",
        "[0 0 1 1]\n",
        "\n",
        "[0 1 0 0]\n",
        "\n",
        "[0 1 0 1]\n",
        "\n",
        "[0 1 1 0]\n",
        "\n",
        "[0 1 1 1]\n",
        "\n",
        "[1 0 0 0]\n",
        "\n",
        "[1 0 0 1]\n",
        "\n",
        "[1 0 1 0]\n",
        "\n",
        "[1 0 1 1]\n",
        "\n",
        "[1 1 0 0]\n",
        "\n",
        "[1 1 0 1]\n",
        "\n",
        "[1 1 1 0]\n",
        "\n",
        "[1 1 1 1]"
      ],
      "metadata": {
        "id": "S5BfZukIFhms"
      }
    },
    {
      "cell_type": "markdown",
      "source": [
        "Se le pide que escriba las instrucciones de la función ``genera_binarios`` de acuerdo al siguiente algoritmo:\n",
        "\n",
        "---\n",
        "\n",
        "\n",
        "\n",
        "* si el valor de ``k`` es igual a ``n``, ya se han generado todos los dígitos por\n",
        "    lo cual se imprime el arreglo en pantalla ``(print(a))``\n",
        "* si no, se hacen dos cosas:  \n",
        "    - se pone un 0 en la ``k``-ésima posicion y se llama recursivamente\n",
        "      a la función para que genere los dígitos restantes\n",
        "    - luego se pone un 1 en la misma ``k``-ésima posición (reemplazando el 0) y se\n",
        "      llama recursivamente a la función para que genere los dígitos restantes\n",
        "\n",
        "Pruebe su función con para el caso ``n=4``. Asegúrese de que genere el mismo resultado que el que aparece en el enunciado.\n"
      ],
      "metadata": {
        "id": "HcL_tumLFvGy"
      }
    }
  ]
}