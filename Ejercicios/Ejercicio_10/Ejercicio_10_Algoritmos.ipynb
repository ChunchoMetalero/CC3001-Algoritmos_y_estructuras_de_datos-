{
  "nbformat": 4,
  "nbformat_minor": 0,
  "metadata": {
    "colab": {
      "provenance": []
    },
    "kernelspec": {
      "name": "python3",
      "display_name": "Python 3"
    },
    "language_info": {
      "name": "python"
    }
  },
  "cells": [
    {
      "cell_type": "markdown",
      "source": [
        "### Ejercicio 6.4 (Inserciones en una tabla de hashing con Linear Probing)\n",
        "\n",
        "Suponga que se tiene una tabla de hashing con Linear Probing, de tamaño 10, inicialmente vacía, con la función de hashing $h(x) = x \\bmod 10$ (por ejemplo, $h(64)=4$). Muestre en la siguiente tabla el resultado de insertar (a mano) la siguiente secuencia de llaves:\n",
        "\n",
        "```\n",
        "34, 59, 45, 27, 14, 22, 75, 25\n",
        "```"
      ],
      "metadata": {
        "id": "iKUFgVouzfo6"
      }
    },
    {
      "cell_type": "markdown",
      "source": [
        "![Ejercicio 10.png](data:image/png;base64,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)\n",
        "\n",
        "Utilizaremos la siguiente función para ver si su respuesta está correcta:"
      ],
      "metadata": {
        "id": "cb1VjGRszzVN"
      }
    },
    {
      "cell_type": "code",
      "source": [
        "def chequea_tabla(lista):\n",
        "    h=0\n",
        "    for x in lista:\n",
        "        h = (h*100+x) % 100000007\n",
        "    print(\"OK\" if h==60375958 else \"Error\")"
      ],
      "metadata": {
        "id": "pOS4cZp0z5Tk"
      },
      "execution_count": null,
      "outputs": []
    },
    {
      "cell_type": "markdown",
      "source": [
        "En el siguiente recuadro reemplace la lista de ceros por la lista de los elementos resultantes en la tabla. Si un casillero queda vacío, escriba un cero."
      ],
      "metadata": {
        "id": "4J7JPi3_z8pz"
      }
    },
    {
      "cell_type": "code",
      "source": [
        "chequea_tabla([25,0,22,0,34,45,14,27,75,59])"
      ],
      "metadata": {
        "colab": {
          "base_uri": "https://localhost:8080/"
        },
        "id": "ZjkfsEU-0APQ",
        "outputId": "1e565f3b-b7c8-4212-f56c-f48733705c4f"
      },
      "execution_count": null,
      "outputs": [
        {
          "output_type": "stream",
          "name": "stdout",
          "text": [
            "OK\n"
          ]
        }
      ]
    }
  ]
}