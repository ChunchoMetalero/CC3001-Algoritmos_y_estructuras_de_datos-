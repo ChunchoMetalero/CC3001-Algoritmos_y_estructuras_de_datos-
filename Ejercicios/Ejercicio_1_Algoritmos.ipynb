{
  "nbformat": 4,
  "nbformat_minor": 0,
  "metadata": {
    "colab": {
      "provenance": []
    },
    "kernelspec": {
      "name": "python3",
      "display_name": "Python 3"
    },
    "language_info": {
      "name": "python"
    }
  },
  "cells": [
    {
      "cell_type": "markdown",
      "source": [
        "### Ejercicio 1.2\n",
        "\n",
        "Existe un algoritmo alternativo a Hoare, que resulta en una codificación más sencilla. Este algoritmo, debido a **Lomuto**, se basa en el siguiente invariante:\n",
        "\n",
        "![particion-Lomuto.png](data:image/png;base64,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)\n",
        "\n",
        "En este algoritmo, en cada iteración, si $a[j]<p$, se intercambian $a[i]$ con $a[j]$ y se incrementa $i$, porque ahora hay un elemento más en el grupo de los menores que $p$. Después de esto, se incrementa $j$, *incondicionalmente* (¿por qué es correcto hacer eso?).\n",
        "\n",
        "Programe la partición de Lomuto en el recuadro siguiente y pruébela."
      ],
      "metadata": {
        "id": "2nwjkETrOe7l"
      }
    },
    {
      "cell_type": "code",
      "source": [
        "def particionLomuto(a,p):\n",
        "    # retorna el punto de corte, el número de elementos <p y la lista particionada\n",
        "    n=len(a)\n",
        "    (i,j)=(0,0) #inicialmente todos los elementos son desconocidos\n",
        "    while j <= n-1: # aún quedan elementos desconocidos\n",
        "        if a[j]<p:\n",
        "          (a[i],a[j])=(a[j],a[i]) # intercambio\n",
        "          i+=1\n",
        "        j+=1\n",
        "    return (p,i,a)"
      ],
      "metadata": {
        "id": "tj7zB0ImO0Ou"
      },
      "execution_count": null,
      "outputs": []
    },
    {
      "cell_type": "code",
      "source": [
        "def verifica_particion(t): # imprime y chequea partición\n",
        "    (p,m,a)=t\n",
        "    # p=punto de corte, m=número de elementos <p, a=lista completa particionada\n",
        "    print(a[0:m],p,a[m:])\n",
        "    print(\"Partición OK\" if (m==0 or max(a[0:m])<p) and (m==len(a) or min(a[m:])>p)\n",
        "          else \"Error\")"
      ],
      "metadata": {
        "id": "g5_U-KyHO4vE"
      },
      "execution_count": null,
      "outputs": []
    },
    {
      "cell_type": "code",
      "source": [
        "verifica_particion(particionLomuto([73,21,34,98,56,37,77,65,82,15,36],50))"
      ],
      "metadata": {
        "colab": {
          "base_uri": "https://localhost:8080/"
        },
        "id": "2b6UYvAkO7ED",
        "outputId": "a760f4d0-0b2e-4482-fb5f-52b8780fe9e8"
      },
      "execution_count": null,
      "outputs": [
        {
          "output_type": "stream",
          "name": "stdout",
          "text": [
            "[21, 34, 37, 15, 36] 50 [73, 77, 65, 82, 98, 56]\n",
            "Partición OK\n"
          ]
        }
      ]
    },
    {
      "cell_type": "code",
      "source": [
        "verifica_particion(particionLomuto([73,21,34,98,56,37,77,65,82,15,36],0))"
      ],
      "metadata": {
        "colab": {
          "base_uri": "https://localhost:8080/"
        },
        "id": "ajwDh1y2O7Zy",
        "outputId": "79058c95-0e74-4800-a32b-2221c8879f38"
      },
      "execution_count": null,
      "outputs": [
        {
          "output_type": "stream",
          "name": "stdout",
          "text": [
            "[] 0 [73, 21, 34, 98, 56, 37, 77, 65, 82, 15, 36]\n",
            "Partición OK\n"
          ]
        }
      ]
    },
    {
      "cell_type": "code",
      "source": [
        "verifica_particion(particionLomuto([73,21,34,98,56,37,77,65,82,15,36],100))"
      ],
      "metadata": {
        "colab": {
          "base_uri": "https://localhost:8080/"
        },
        "id": "paYWq5vVO8s0",
        "outputId": "32294ae2-38ad-47bc-dde5-5b9a050a3e17"
      },
      "execution_count": null,
      "outputs": [
        {
          "output_type": "stream",
          "name": "stdout",
          "text": [
            "[73, 21, 34, 98, 56, 37, 77, 65, 82, 15, 36] 100 []\n",
            "Partición OK\n"
          ]
        }
      ]
    },
    {
      "cell_type": "markdown",
      "source": [
        "Es correcto hacer esto debido a que recorremos la lista cambiando el j, por lo que hacemos partir el j en 0 para asi recorrerla de forma completa, si se cumple la condicion entonces intercambiara el i con el j, asegurandonos de tener el j a la izquierda del corte, luego aumentamos el i para actualizar la posicion del que tiene que intercambiar si es que se vuelve a cumplir la condicion, en lo que se sigue recorriendo la lista con el aumento de j."
      ],
      "metadata": {
        "id": "4SsGMafdA1d6"
      }
    }
  ]
}